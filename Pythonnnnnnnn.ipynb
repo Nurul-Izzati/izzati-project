{
  "nbformat": 4,
  "nbformat_minor": 0,
  "metadata": {
    "colab": {
      "name": "Pythonnnnnnnn",
      "provenance": [],
      "collapsed_sections": [],
      "include_colab_link": true
    },
    "kernelspec": {
      "display_name": "Python 3",
      "name": "python3"
    }
  },
  "cells": [
    {
      "cell_type": "markdown",
      "metadata": {
        "id": "view-in-github",
        "colab_type": "text"
      },
      "source": [
        "<a href=\"https://colab.research.google.com/github/Nurul-Izzati/izzati-project/blob/main/Pythonnnnnnnn.ipynb\" target=\"_parent\"><img src=\"https://colab.research.google.com/assets/colab-badge.svg\" alt=\"Open In Colab\"/></a>"
      ]
    },
    {
      "cell_type": "code",
      "metadata": {
        "id": "8yqsuL2IX88x"
      },
      "source": [
        "names = ['abu', 'ali', 'ahmad', 'mila', 'raju']\n",
        "wages = [1000, 1500, 2000, 2500, 3000]\n",
        "\n",
        "def maxmin(myages):\n",
        "  for x in mywages:\n",
        "\n",
        "print()"
      ],
      "execution_count": 50,
      "outputs": []
    },
    {
      "cell_type": "code",
      "metadata": {
        "colab": {
          "base_uri": "https://localhost:8080/"
        },
        "id": "wdXfnb98QzWa",
        "outputId": "fa62074c-803f-4b07-cea1-7f2d96e6b2c4"
      },
      "source": [
        "name = input(\"Enter yoyr name: \")\n",
        "print(\"Name: \", name)\n",
        "\n",
        "vowels = 'aeiouAEIOU'\n",
        "\n",
        "def findVowel(name):\n",
        "  countVowels = 0\n",
        "  for x in name:\n",
        "    print(x)\n",
        "    if x in vowels:\n",
        "      countVowels = countVowels + 1\n",
        "  print(\"Number of vowels = \", countVowels)\n",
        "\n",
        "  ratio = countVowels / len(name)\n",
        "  return ratio\n",
        "\n",
        "findVowel(name)\n"
      ],
      "execution_count": 46,
      "outputs": [
        {
          "output_type": "stream",
          "text": [
            "Enter yoyr name: zati\n",
            "Name:  zati\n",
            "z\n",
            "a\n",
            "t\n",
            "i\n",
            "Number of vowels =  2\n"
          ],
          "name": "stdout"
        },
        {
          "output_type": "execute_result",
          "data": {
            "text/plain": [
              "0.5"
            ]
          },
          "metadata": {
            "tags": []
          },
          "execution_count": 46
        }
      ]
    },
    {
      "cell_type": "code",
      "metadata": {
        "colab": {
          "base_uri": "https://localhost:8080/"
        },
        "id": "0wASKVnDIQTw",
        "outputId": "cf8ce921-e552-46e0-aa0a-f69d8cd67887"
      },
      "source": [
        "num1 = int(input(\"Enter Number1: \"))\n",
        "print(type(num1))\n",
        "num2 = int(input(\"Enter Number2: \"))\n",
        "print(type(num2))\n",
        "\n",
        "print(\"Number1: \", num1)\n",
        "print(\"Number2: \", num2)\n",
        "\n",
        "if num1 > num2:\n",
        "  print(num1, 'is greater than', num2)\n",
        "else:\n",
        "  print(num1, 'is less than', num2)\n"
      ],
      "execution_count": 23,
      "outputs": [
        {
          "output_type": "stream",
          "text": [
            "Enter Number1: 4\n",
            "<class 'int'>\n",
            "Enter Number2: 2\n",
            "<class 'int'>\n",
            "Number1:  4\n",
            "Number2:  2\n",
            "4 is greater than 2\n"
          ],
          "name": "stdout"
        }
      ]
    },
    {
      "cell_type": "code",
      "metadata": {
        "colab": {
          "base_uri": "https://localhost:8080/",
          "height": 191
        },
        "id": "l0rxVe9h8lA0",
        "outputId": "19d90d8a-09aa-4145-d58f-0104148d6bbd"
      },
      "source": [
        "#Print characters presents at even index number\n",
        "list1= ['12', 'izzati', 'hello']\n",
        "\n",
        "for index in range(len(list1)):\n",
        "  if index%2 == 0:\n",
        "    print(list1(index))\n"
      ],
      "execution_count": 2,
      "outputs": [
        {
          "output_type": "error",
          "ename": "TypeError",
          "evalue": "ignored",
          "traceback": [
            "\u001b[0;31m---------------------------------------------------------------------------\u001b[0m",
            "\u001b[0;31mTypeError\u001b[0m                                 Traceback (most recent call last)",
            "\u001b[0;32m<ipython-input-2-34605965456f>\u001b[0m in \u001b[0;36m<module>\u001b[0;34m()\u001b[0m\n\u001b[1;32m      4\u001b[0m \u001b[0;32mfor\u001b[0m \u001b[0mindex\u001b[0m \u001b[0;32min\u001b[0m \u001b[0mrange\u001b[0m\u001b[0;34m(\u001b[0m\u001b[0mlen\u001b[0m\u001b[0;34m(\u001b[0m\u001b[0mlist1\u001b[0m\u001b[0;34m)\u001b[0m\u001b[0;34m)\u001b[0m\u001b[0;34m:\u001b[0m\u001b[0;34m\u001b[0m\u001b[0;34m\u001b[0m\u001b[0m\n\u001b[1;32m      5\u001b[0m   \u001b[0;32mif\u001b[0m \u001b[0mindex\u001b[0m\u001b[0;34m%\u001b[0m\u001b[0;36m2\u001b[0m \u001b[0;34m==\u001b[0m \u001b[0;36m0\u001b[0m\u001b[0;34m:\u001b[0m\u001b[0;34m\u001b[0m\u001b[0;34m\u001b[0m\u001b[0m\n\u001b[0;32m----> 6\u001b[0;31m     \u001b[0mprint\u001b[0m\u001b[0;34m(\u001b[0m\u001b[0mlist1\u001b[0m\u001b[0;34m(\u001b[0m\u001b[0mindex\u001b[0m\u001b[0;34m)\u001b[0m\u001b[0;34m)\u001b[0m\u001b[0;34m\u001b[0m\u001b[0;34m\u001b[0m\u001b[0m\n\u001b[0m",
            "\u001b[0;31mTypeError\u001b[0m: 'list' object is not callable"
          ]
        }
      ]
    },
    {
      "cell_type": "code",
      "metadata": {
        "colab": {
          "base_uri": "https://localhost:8080/"
        },
        "id": "kH-e3ZOY8s7V",
        "outputId": "0af5507b-1a68-4070-b360-a040e646fe10"
      },
      "source": [
        "#print total no of digits\n",
        "\n",
        "num = 12345\n",
        "print('Length = ', len(str(num)))\n",
        "print(num)\n",
        "\n",
        "#Calculate total of each digits\n",
        "sumDigit = 0\n",
        "for digit in str(num):\n",
        "\tsumDigit += int(digit)\n",
        "    \n",
        "print('Sum of digits = ', sumDigit)"
      ],
      "execution_count": 1,
      "outputs": [
        {
          "output_type": "stream",
          "text": [
            "Length =  5\n",
            "12345\n",
            "Sum of digits =  15\n"
          ],
          "name": "stdout"
        }
      ]
    },
    {
      "cell_type": "code",
      "metadata": {
        "id": "Iy5GzFtkJHVb",
        "colab": {
          "base_uri": "https://localhost:8080/",
          "height": 457
        },
        "outputId": "f9a52736-c281-4ca8-be2f-c8b7b8b64e88"
      },
      "source": [
        "import random\n",
        "\n",
        "list = []\n",
        "list1 = []\n",
        "list2 = []\n",
        "\n",
        "#function1 - update list\n",
        "def update(myList):\n",
        "\tfor x in range(1, 11):\n",
        "\t\tmyList.append(random.randrange(1, 100))\n",
        "\n",
        "#function2 - sum the list\n",
        "def getSum(myList):\n",
        "\treturn sum(myList)\n",
        "\n",
        "#function3 - find average\n",
        "def getAvg(myList):\n",
        "  return sum(myList) / len(myList)\n",
        "\t\n",
        "#function4 - find highest and lowest value\n",
        "def getMin(myList):\n",
        "\treturn min(myList)\n",
        "\n",
        "def getMax(myList):\n",
        "\treturn max(myList)\n",
        "\n",
        "#function5 - find number less than average\n",
        "def getNumLessAvg(myList):\n",
        "  for numLessAvg in myList:\n",
        "    if numLessAvg < getAvg(myList):\n",
        "      return numLessAvg\n",
        "\n",
        "print(list)\n",
        "update(list)\n",
        "total = getSum(list)\n",
        "avg = getAvg(list)\n",
        "minimum = getMin(list)\n",
        "maximum = getMax(list)\n",
        "numLessAvg = getNumLessAvg(list)\n",
        "print('List = ', list, '\\nSum = ', total, '\\nAverage = ', avg, '\\nLowest value = ', minimum, '\\nHighest value = ', maximum, '\\nNumbers that less than average = ', numLessAvg)\n",
        "\n",
        "print('\\n')\n",
        "print(list1)\n",
        "update(list1)\n",
        "total = getSum(list1)\n",
        "avg = getAvg(list1)\n",
        "minimum = getMin(list1)\n",
        "maximum = getMax(list1)\n",
        "print('List1 = ', list, '\\nSum = ', total, '\\nAverage = ', avg, '\\nLowest value = ', minimum, '\\nHighest value = ', maximum, '\\nNumbers that less than average = ', numLessAvg)\n",
        "\n",
        "print('\\n')\n",
        "print(list2)\n",
        "update(list2)\n",
        "total = getSum(list2)\n",
        "avg = getAvg(list2)\n",
        "minimum = getMin(list2)\n",
        "maximum = getMax(list2)\n",
        "print('List2 = ', list, '\\nSum = ', total, '\\nAverage = ', avg, '\\nLowest value = ', minimum, '\\nHighest value = ', maximum, '\\nNumbers that less than average = ', numLessAvg)\n",
        "\n",
        "\n",
        "'''\n",
        "print('List numbers = ', list)\n",
        "\n",
        "total = sum(list)\n",
        "print('Sum = ', total)\n",
        "\n",
        "avg = total/len(list)\n",
        "print('Average = ', avg)\n",
        "\n",
        "minimum = min(list)\n",
        "print('Minimum number = ', minimum)\n",
        "\n",
        "maximum = max(list)\n",
        "print('Maximum number = ', maximum)\n",
        "\n",
        "print('Numbers that less than average: ')\n",
        "for num in list:\n",
        "\tif num < avg:\n",
        "\t\tprint(num)\n",
        "'''"
      ],
      "execution_count": null,
      "outputs": [
        {
          "output_type": "stream",
          "text": [
            "[]\n",
            "List =  [20, 31, 19, 70, 7, 85, 35, 11, 61, 87] \n",
            "Sum =  426 \n",
            "Average =  42.6 \n",
            "Lowest value =  7 \n",
            "Highest value =  87 \n",
            "Numbers that less than average =  20\n",
            "\n",
            "\n",
            "[]\n",
            "List1 =  [20, 31, 19, 70, 7, 85, 35, 11, 61, 87] \n",
            "Sum =  336 \n",
            "Average =  33.6 \n",
            "Lowest value =  2 \n",
            "Highest value =  88 \n",
            "Numbers that less than average =  20\n",
            "\n",
            "\n",
            "[]\n",
            "List2 =  [20, 31, 19, 70, 7, 85, 35, 11, 61, 87] \n",
            "Sum =  535 \n",
            "Average =  53.5 \n",
            "Lowest value =  5 \n",
            "Highest value =  96 \n",
            "Numbers that less than average =  20\n"
          ],
          "name": "stdout"
        },
        {
          "output_type": "execute_result",
          "data": {
            "application/vnd.google.colaboratory.intrinsic+json": {
              "type": "string"
            },
            "text/plain": [
              "\"\\nprint('List numbers = ', list)\\n\\ntotal = sum(list)\\nprint('Sum = ', total)\\n\\navg = total/len(list)\\nprint('Average = ', avg)\\n\\nminimum = min(list)\\nprint('Minimum number = ', minimum)\\n\\nmaximum = max(list)\\nprint('Maximum number = ', maximum)\\n\\nprint('Numbers that less than average: ')\\nfor num in list:\\n\\tif num < avg:\\n\\t\\tprint(num)\\n\""
            ]
          },
          "metadata": {
            "tags": []
          },
          "execution_count": 23
        }
      ]
    },
    {
      "cell_type": "code",
      "metadata": {
        "id": "fInKoTkXrlF4",
        "colab": {
          "base_uri": "https://localhost:8080/"
        },
        "outputId": "e7b1bc7c-fb65-46e3-9f9a-0519b4376f85"
      },
      "source": [
        "num1 = 2\n",
        "num2 = 3\n",
        "\n",
        "sum = num1 + num2\n",
        "\n",
        "print('The sum of {0} and {1} is {2}'.format(num1, num2, sum))"
      ],
      "execution_count": null,
      "outputs": [
        {
          "output_type": "stream",
          "text": [
            "The sum of 2 and 3 is 5\n"
          ],
          "name": "stdout"
        }
      ]
    },
    {
      "cell_type": "code",
      "metadata": {
        "colab": {
          "base_uri": "https://localhost:8080/"
        },
        "id": "QSa2bANNAWpA",
        "outputId": "9e2a3afd-6f0d-4473-f68b-9f83209a480c"
      },
      "source": [
        "num = float(input(\"Enter a number: \"))\n",
        "if num > 0:\n",
        "   print(\"Positive number\")\n",
        "elif num == 0:\n",
        "   print(\"Zero\")\n",
        "else:\n",
        "   print(\"Negative number\")"
      ],
      "execution_count": null,
      "outputs": [
        {
          "output_type": "stream",
          "text": [
            "Enter a number: 2\n",
            "Positive number\n"
          ],
          "name": "stdout"
        }
      ]
    }
  ]
}